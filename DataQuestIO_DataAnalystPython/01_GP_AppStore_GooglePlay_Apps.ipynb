{
 "cells": [
  {
   "cell_type": "markdown",
   "metadata": {},
   "source": [
    "## Profitable App Profiles for the App Store and Google Play Markets\n",
    "\n",
    "First Guided Project in dataquest.io - Data Analys in Python.<br>\n",
    "Exploring two csv datasets:<br>\n",
    "* **AppleStore.csv** - containing data about approximately seven thousand iOS apps from the App Store.<br> You can download the data set directly from this [link](https://dq-content.s3.amazonaws.com/350/AppleStore.csv). [Data set description](https://www.kaggle.com/ramamet4/app-store-apple-data-set-10k-apps)\n",
    "* **googleplaystore.csv** - containing data about approximately ten thousand Android apps from Google Play.<br> You can download the data set directly from this [link](https://dq-content.s3.amazonaws.com/350/googleplaystore.csv). [Data set description](https://www.kaggle.com/lava18/google-play-store-apps)\n"
   ]
  },
  {
   "cell_type": "markdown",
   "metadata": {},
   "source": [
    "## Opening the csv files"
   ]
  },
  {
   "cell_type": "code",
   "execution_count": null,
   "metadata": {},
   "outputs": [],
   "source": [
    "import csv\n",
    "import os\n",
    "\n",
    "def opening_csv_files(file_path):\n",
    "    with open(file_path, encoding='utf-8', mode='r') as csv_file:\n",
    "        data_set = list(csv.reader(csv_file))\n",
    "        \n",
    "        data_header = data_set[0]\n",
    "        data_body = data_set[1:]\n",
    "        \n",
    "    return data_header, data_body\n",
    "\n",
    "# AppleStore data set\n",
    "ios_header, ios_dataset = opening_csv_files('src\\AppleStore.csv')\n",
    "\n",
    "# Google Play data set\n",
    "android_header, android_dataset = opening_csv_files('src\\googleplaystore.csv')\n",
    "\n",
    "# Check headers\n",
    "print('Apple Store header:\\n{}\\n'.format(ios_header))\n",
    "print('Google Play header:\\n{}\\n'.format(android_header))\n",
    "\n",
    "# Length of data sets\n",
    "print('# of rows in Apple Store data set: {}'.format(len(ios_dataset)))\n",
    "print('# of rows in Google Play data set: {}'.format(len(android_dataset)))"
   ]
  },
  {
   "cell_type": "markdown",
   "metadata": {},
   "source": [
    "## Exploring data sets\n",
    "* Print some rows\n",
    "* Print # of rows\n",
    "* Print # of columns"
   ]
  },
  {
   "cell_type": "code",
   "execution_count": null,
   "metadata": {},
   "outputs": [],
   "source": [
    "def explore_data(dataset, slice_start, slice_end, rows_columns_count=False):\n",
    "    \"\"\"\n",
    "    dataset: list\n",
    "    slice_start: starting row of a data slice\n",
    "    slice_end: ending row of a data slice\n",
    "    rows_columns_count: if True prints the number of rows and columns\n",
    "    \"\"\"\n",
    "    if slice_start > slice_end:\n",
    "        slice_end = slice_start + 1\n",
    "    \n",
    "    slice_of_data = dataset[slice_start:slice_end]\n",
    "    \n",
    "    for row in slice_of_data:\n",
    "        print(row)\n",
    "        print('='*100)\n",
    "        \n",
    "    if rows_columns_count:\n",
    "        print('# of rows: {}'.format(len(dataset)))\n",
    "        print('# of columns: {}'.format(len(dataset[0])))\n",
    "        \n",
    "print('Quick view of Apple Store data set: \\n' + '-'*50 )\n",
    "print(ios_header)\n",
    "print('\\n')\n",
    "explore_data(ios_dataset, 0, 3, True)\n",
    "\n",
    "print('\\n')\n",
    "print('Quick view of Google Play data set: \\n' + '-'*50 )\n",
    "print(android_header)\n",
    "print('\\n')\n",
    "explore_data(android_dataset, 0, 3, True)"
   ]
  },
  {
   "cell_type": "markdown",
   "metadata": {},
   "source": [
    "## Deleting wrong data\n",
    "The Google Play data set has a [dedicated discussion section](https://www.kaggle.com/lava18/google-play-store-apps/discussion), and we can see that one of the [discussions outlines an error for row 10472](https://www.kaggle.com/lava18/google-play-store-apps/discussion/66015). In order to prevent this kind of errors all the entries field number checked and compared to the # of header columns."
   ]
  },
  {
   "cell_type": "code",
   "execution_count": null,
   "metadata": {},
   "outputs": [],
   "source": [
    "def len_check_and_log(dataset, dataset_id, header_row):\n",
    "    for row in dataset:\n",
    "        if len(row) != len(header_row):\n",
    "            # add entry to log file\n",
    "            error_log(error_data=row, dataset_id=dataset_id, header_row=header_row)\n",
    "            print('Data length error in line in dataset - {}:\\n{}'.format(dataset_id, row))\n",
    "            del row\n",
    "            \n",
    "def error_log(error_data, dataset_id, header_row):\n",
    "    if dataset_id == 'android':\n",
    "        log_entry_file = 'src/android_error_log.csv' \n",
    "    elif dataset_id == 'ios':\n",
    "        log_entry_file = 'src/ios_error_log.csv'\n",
    "    \n",
    "    # Check if log file exists, if not create the file and add header\n",
    "    if os.path.exists(log_entry_file) == False:\n",
    "        with open(log_entry_file, 'w', newline='') as log_file:\n",
    "            writer = csv.writer(log_file)\n",
    "            writer.writerow(header_row)\n",
    "    \n",
    "    # Add wrong line to log file\n",
    "    with open(log_entry_file, 'a', newline='') as log_file:\n",
    "        log_entries = csv.writer(log_file)\n",
    "        log_entries.writerow(error_data)\n",
    "        \n",
    "len_check_and_log(android_dataset, 'android', android_header)\n",
    "len_check_and_log(ios_dataset, 'ios', ios_header)"
   ]
  },
  {
   "cell_type": "markdown",
   "metadata": {},
   "source": [
    "## Checking for duplicated entries\n",
    "In the Google data set checking for duplicated entries by App name"
   ]
  }
 ],
 "metadata": {
  "kernelspec": {
   "display_name": "Python 3",
   "language": "python",
   "name": "python3"
  },
  "language_info": {
   "codemirror_mode": {
    "name": "ipython",
    "version": 3
   },
   "file_extension": ".py",
   "mimetype": "text/x-python",
   "name": "python",
   "nbconvert_exporter": "python",
   "pygments_lexer": "ipython3",
   "version": "3.7.4"
  }
 },
 "nbformat": 4,
 "nbformat_minor": 2
}
