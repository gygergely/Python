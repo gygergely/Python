{
 "cells": [
  {
   "cell_type": "markdown",
   "metadata": {},
   "source": [
    "## Profitable App Profiles for the App Store and Google Play Markets\n",
    "\n",
    "First Guided Project in dataquest.io - Data Analys in Python.<br>\n",
    "Exploring two csv datasets:<br>\n",
    "* **AppleStore.csv** - containing data about approximately seven thousand iOS apps from the App Store.<br> You can download the data set directly from this [link](https://dq-content.s3.amazonaws.com/350/AppleStore.csv). [Data set description](https://www.kaggle.com/ramamet4/app-store-apple-data-set-10k-apps)\n",
    "* **googleplaystore.csv** - containing data about approximately ten thousand Android apps from Google Play.<br> You can download the data set directly from this [link](https://dq-content.s3.amazonaws.com/350/googleplaystore.csv). [Data set description](https://www.kaggle.com/lava18/google-play-store-apps)\n"
   ]
  },
  {
   "cell_type": "markdown",
   "metadata": {},
   "source": [
    "## Opening the csv files"
   ]
  },
  {
   "cell_type": "code",
   "execution_count": 1,
   "metadata": {},
   "outputs": [
    {
     "name": "stdout",
     "output_type": "stream",
     "text": [
      "Apple Store header:\n",
      "['id', 'track_name', 'size_bytes', 'currency', 'price', 'rating_count_tot', 'rating_count_ver', 'user_rating', 'user_rating_ver', 'ver', 'cont_rating', 'prime_genre', 'sup_devices.num', 'ipadSc_urls.num', 'lang.num', 'vpp_lic']\n",
      "\n",
      "Google Play header:\n",
      "['App', 'Category', 'Rating', 'Reviews', 'Size', 'Installs', 'Type', 'Price', 'Content Rating', 'Genres', 'Last Updated', 'Current Ver', 'Android Ver']\n",
      "\n",
      "# of rows in Apple Store data set: 7197\n",
      "# of rows in Google Play data set: 10841\n"
     ]
    }
   ],
   "source": [
    "import csv\n",
    "import os\n",
    "\n",
    "def opening_csv_files(file_path):\n",
    "    with open(file_path, encoding='utf-8', mode='r') as csv_file:\n",
    "        data_set = list(csv.reader(csv_file))\n",
    "        \n",
    "        data_header = data_set[0]\n",
    "        data_body = data_set[1:]\n",
    "        \n",
    "    return data_header, data_body\n",
    "\n",
    "# AppleStore data set\n",
    "ios_header, ios_dataset = opening_csv_files('src\\AppleStore.csv')\n",
    "\n",
    "# Google Play data set\n",
    "android_header, android_dataset = opening_csv_files('src\\googleplaystore.csv')\n",
    "\n",
    "# Check headers\n",
    "print('Apple Store header:\\n{}\\n'.format(ios_header))\n",
    "print('Google Play header:\\n{}\\n'.format(android_header))\n",
    "\n",
    "# Length of data sets\n",
    "print('# of rows in Apple Store data set: {}'.format(len(ios_dataset)))\n",
    "print('# of rows in Google Play data set: {}'.format(len(android_dataset)))"
   ]
  },
  {
   "cell_type": "markdown",
   "metadata": {},
   "source": [
    "## Exploring data sets\n",
    "* Print some rows\n",
    "* Print # of rows\n",
    "* Print # of columns"
   ]
  },
  {
   "cell_type": "code",
   "execution_count": 2,
   "metadata": {},
   "outputs": [
    {
     "name": "stdout",
     "output_type": "stream",
     "text": [
      "Quick view of Apple Store data set: \n",
      "--------------------------------------------------\n",
      "['id', 'track_name', 'size_bytes', 'currency', 'price', 'rating_count_tot', 'rating_count_ver', 'user_rating', 'user_rating_ver', 'ver', 'cont_rating', 'prime_genre', 'sup_devices.num', 'ipadSc_urls.num', 'lang.num', 'vpp_lic']\n",
      "\n",
      "\n",
      "['284882215', 'Facebook', '389879808', 'USD', '0.0', '2974676', '212', '3.5', '3.5', '95.0', '4+', 'Social Networking', '37', '1', '29', '1']\n",
      "====================================================================================================\n",
      "['389801252', 'Instagram', '113954816', 'USD', '0.0', '2161558', '1289', '4.5', '4.0', '10.23', '12+', 'Photo & Video', '37', '0', '29', '1']\n",
      "====================================================================================================\n",
      "['529479190', 'Clash of Clans', '116476928', 'USD', '0.0', '2130805', '579', '4.5', '4.5', '9.24.12', '9+', 'Games', '38', '5', '18', '1']\n",
      "====================================================================================================\n",
      "# of rows: 7197\n",
      "# of columns: 16\n",
      "\n",
      "\n",
      "Quick view of Google Play data set: \n",
      "--------------------------------------------------\n",
      "['App', 'Category', 'Rating', 'Reviews', 'Size', 'Installs', 'Type', 'Price', 'Content Rating', 'Genres', 'Last Updated', 'Current Ver', 'Android Ver']\n",
      "\n",
      "\n",
      "['Photo Editor & Candy Camera & Grid & ScrapBook', 'ART_AND_DESIGN', '4.1', '159', '19M', '10,000+', 'Free', '0', 'Everyone', 'Art & Design', 'January 7, 2018', '1.0.0', '4.0.3 and up']\n",
      "====================================================================================================\n",
      "['Coloring book moana', 'ART_AND_DESIGN', '3.9', '967', '14M', '500,000+', 'Free', '0', 'Everyone', 'Art & Design;Pretend Play', 'January 15, 2018', '2.0.0', '4.0.3 and up']\n",
      "====================================================================================================\n",
      "['U Launcher Lite – FREE Live Cool Themes, Hide Apps', 'ART_AND_DESIGN', '4.7', '87510', '8.7M', '5,000,000+', 'Free', '0', 'Everyone', 'Art & Design', 'August 1, 2018', '1.2.4', '4.0.3 and up']\n",
      "====================================================================================================\n",
      "# of rows: 10841\n",
      "# of columns: 13\n"
     ]
    }
   ],
   "source": [
    "def explore_data(dataset, slice_start, slice_end, rows_columns_count=False):\n",
    "    \"\"\"\n",
    "    dataset: list\n",
    "    slice_start: starting row of a data slice\n",
    "    slice_end: ending row of a data slice\n",
    "    rows_columns_count: if True prints the number of rows and columns\n",
    "    \"\"\"\n",
    "    if slice_start > slice_end:\n",
    "        slice_end = slice_start + 1\n",
    "    \n",
    "    slice_of_data = dataset[slice_start:slice_end]\n",
    "    \n",
    "    for row in slice_of_data:\n",
    "        print(row)\n",
    "        print('='*100)\n",
    "        \n",
    "    if rows_columns_count:\n",
    "        print('# of rows: {}'.format(len(dataset)))\n",
    "        print('# of columns: {}'.format(len(dataset[0])))\n",
    "        \n",
    "print('Quick view of Apple Store data set: \\n' + '-'*50 )\n",
    "print(ios_header)\n",
    "print('\\n')\n",
    "explore_data(ios_dataset, 0, 3, True)\n",
    "\n",
    "print('\\n')\n",
    "print('Quick view of Google Play data set: \\n' + '-'*50 )\n",
    "print(android_header)\n",
    "print('\\n')\n",
    "explore_data(android_dataset, 0, 3, True)"
   ]
  },
  {
   "cell_type": "markdown",
   "metadata": {},
   "source": [
    "## Deleting wrong data\n",
    "The Google Play data set has a [dedicated discussion section](https://www.kaggle.com/lava18/google-play-store-apps/discussion), and we can see that one of the [discussions outlines an error for row 10472](https://www.kaggle.com/lava18/google-play-store-apps/discussion/66015). In order to prevent this kind of errors all the entries field number checked and compared to the # of header columns."
   ]
  },
  {
   "cell_type": "code",
   "execution_count": 3,
   "metadata": {},
   "outputs": [
    {
     "name": "stdout",
     "output_type": "stream",
     "text": [
      "Data length error in line in dataset - android:\n",
      "['Life Made WI-Fi Touchscreen Photo Frame', '1.9', '19', '3.0M', '1,000+', 'Free', '0', 'Everyone', '', 'February 11, 2018', '1.0.19', '4.0 and up']\n"
     ]
    }
   ],
   "source": [
    "def len_check_and_log(dataset, dataset_id, header_row):\n",
    "    for row in dataset:\n",
    "        if len(row) != len(header_row):\n",
    "            # add entry to log file\n",
    "            error_log(error_data=row, dataset_id=dataset_id, header_row=header_row)\n",
    "            print('Data length error in line in dataset - {}:\\n{}'.format(dataset_id, row))\n",
    "            del row\n",
    "            \n",
    "def error_log(error_data, dataset_id, header_row):\n",
    "    if dataset_id == 'android':\n",
    "        log_entry_file = 'src/android_error_log.csv' \n",
    "    elif dataset_id == 'ios':\n",
    "        log_entry_file = 'src/ios_error_log.csv'\n",
    "    \n",
    "    # Check if log file exists, if not create the file and add header\n",
    "    if os.path.exists(log_entry_file) == False:\n",
    "        with open(log_entry_file, 'w', newline='') as log_file:\n",
    "            writer = csv.writer(log_file)\n",
    "            writer.writerow(header_row)\n",
    "    \n",
    "    # Add wrong line to log file\n",
    "    with open(log_entry_file, 'a', newline='') as log_file:\n",
    "        log_entries = csv.writer(log_file)\n",
    "        log_entries.writerow(error_data)\n",
    "        \n",
    "len_check_and_log(android_dataset, 'android', android_header)\n",
    "len_check_and_log(ios_dataset, 'ios', ios_header)"
   ]
  },
  {
   "cell_type": "markdown",
   "metadata": {},
   "source": [
    "## Checking for duplicated entries\n",
    "In the Google data set checking for duplicated entries by App name, in the Apple data set checking ids."
   ]
  },
  {
   "cell_type": "code",
   "execution_count": 16,
   "metadata": {},
   "outputs": [
    {
     "name": "stdout",
     "output_type": "stream",
     "text": [
      "No duplicated data in the Apple data set.\n",
      "----------------------------------------------------------------------------------------------------\n",
      "\n",
      "\n",
      "# of duplicated apps in Google dataset: 1181\n",
      "\n",
      "\n",
      "Example of duplicated entries:\n",
      " ['Quick PDF Scanner + OCR FREE', 'Box', 'Google My Business', 'ZOOM Cloud Meetings', 'join.me - Simple Meetings', 'Box', 'Zenefits', 'Google Ads', 'Google My Business', 'Slack', 'FreshBooks Classic', 'Insightly CRM', 'QuickBooks Accounting: Invoicing & Expenses', 'HipChat - Chat Built for Teams', 'Xero Accounting Software', 'MailChimp - Email, Marketing Automation', 'Crew - Free Messaging and Scheduling', 'Asana: organize team projects', 'Google Analytics', 'AdWords Express', 'Accounting App - Zoho Books', 'Invoice & Time Tracking - Zoho', 'join.me - Simple Meetings', 'Invoice 2go — Professional Invoices and Estimates', 'SignEasy | Sign and Fill PDF and other Documents', 'Quick PDF Scanner + OCR FREE', 'Genius Scan - PDF Scanner', 'Tiny Scanner - PDF Scanner App', 'Fast Scanner : Free PDF Scan', 'Mobile Doc Scanner (MDScan) Lite', 'TurboScan: scan documents and receipts in PDF', 'Tiny Scanner Pro: PDF Doc Scan', 'Docs To Go™ Free Office Suite', 'OfficeSuite : Free Office + PDF Editor', 'Slack', 'QuickBooks Accounting: Invoicing & Expenses', 'WhatsApp Messenger', 'Messenger – Text and Video Chat for Free', 'imo free video calls and chat', 'Viber Messenger', 'Hangouts', 'WeChat', 'Telegram', 'Who', 'Google Voice', 'Android Messages', 'Firefox Focus: The privacy browser', 'Google Allo', 'Google Chrome: Fast & Secure', 'Firefox Browser fast & private', 'Puffin Web Browser', 'Opera Browser: Fast and Secure', 'Opera Mini - fast web browser', 'UC Browser Mini -Tiny Fast Private & Secure', 'UC Browser - Fast Download Private & Secure', 'Calls & Text by Mo+', 'Viber Messenger', 'Call Blocker', 'Gmail', 'Yahoo Mail – Stay Organized', 'Hangouts', 'imo free video calls and chat', 'free video calls and chat', 'Viber Messenger', 'Skype - free IM & video calls', 'WeChat', 'Glide - Video Chat Messenger', 'Talkray - Free Calls & Texts', 'LINE: Free Calls & Messages', 'KakaoTalk: Free Calls & Text', 'OkCupid Dating', 'CMB Free Dating App', 'Hily: Dating, Chat, Match, Meet & Hook up', 'Hinge: Dating & Relationships', 'BBW Dating & Plus Size Chat', 'Casual Dating & Adult Singles - Joyride', 'EliteSingles – Dating for Single Professionals', 'Clover Dating App', 'Moco - Chat, Meet People', 'Hot or Not - Find someone right now', 'Just She - Top Lesbian Dating', 'Once - Quality Matches Every day', 'Sudy – Meet Elite & Rich Single', 'muzmatch: Muslim & Arab Singles, Marriage & Dating', 'Chispa, the Dating App for Latino, Latina Singles', 'Blendr - Chat, Flirt & Meet', 'Find Real Love — YouLove Premium Dating', 'Cougar Dating Life : Date Older Women Sugar Mummy', 'stranger chat - anonymous chat', 'Millionaire Match: Rich Singles Dating App', 'Dating for 50 plus Mature Singles – FINALLY', 'Moco+ - Chat, Meet People', 'Chat Rooms, Avatars, Date - Galaxy', 'FastMeet: Chat, Dating, Love', 'Christian Dating For Free App', 'Meet24 - Love, Chat, Singles', 'Black White Interracial Dating - Interracial Match', 'Gay Sugar Daddy Dating & Hookup – Sudy Gay', 'Adult Dirty Emojis', 'Hide App, Private Dating, Safe Chat - PrivacyHider']\n",
      "----------------------------------------------------------------------------------------------------\n"
     ]
    }
   ],
   "source": [
    "def check_duplicate_entries(dataset, column_index):\n",
    "    \"\"\"\n",
    "    collect duplicate entries in a list's column\n",
    "    \"\"\"\n",
    "    duplicate_apps = list()\n",
    "    unique_apps = list()\n",
    "    \n",
    "    for row in dataset:\n",
    "        app_name = row[column_index]\n",
    "        if app_name in unique_apps:\n",
    "            duplicate_apps.append(app_name)\n",
    "        else:\n",
    "            unique_apps.append(app_name)\n",
    "    \n",
    "    return duplicate_apps, unique_apps\n",
    "\n",
    "def print_duplicate_apps_summary(dataset, dataset_id):\n",
    "    \"\"\"\n",
    "    print a couple of lines from a list, printed text depends on the dataset_id\n",
    "    \"\"\"\n",
    "    if len(dataset) == 0:\n",
    "        print('No duplicated data in the {} data set.'.format(dataset_id))\n",
    "        print('-'*100)\n",
    "        print('\\n')\n",
    "    else:\n",
    "        print('# of duplicated apps in {} dataset: {}'.format(dataset_id, len(dataset)))\n",
    "        print('\\n')\n",
    "        print('Example of duplicated entries:\\n {}'.format(dataset[:100]))\n",
    "        print('-'*100)\n",
    "\n",
    "ios_list_of_duplicated_apps, ios_list_of_unique_apps = check_duplicate_entries(ios_dataset, 0)\n",
    "android_list_of_duplicated_apps, android_list_of_unique_apps = check_duplicate_entries(android_dataset, 0)\n",
    "\n",
    "print_duplicate_apps_summary(ios_list_of_duplicated_apps, 'Apple')\n",
    "print_duplicate_apps_summary(android_list_of_duplicated_apps, 'Google')"
   ]
  },
  {
   "cell_type": "markdown",
   "metadata": {},
   "source": [
    "Before the analysis duplicated entries needs to be removed and only keep one entry per app.<br>\n",
    "First let's have a look at some of the duplicated entries by having a closer look ."
   ]
  },
  {
   "cell_type": "code",
   "execution_count": 14,
   "metadata": {},
   "outputs": [
    {
     "name": "stdout",
     "output_type": "stream",
     "text": [
      "['App', 'Category', 'Rating', 'Reviews', 'Size', 'Installs', 'Type', 'Price', 'Content Rating', 'Genres', 'Last Updated', 'Current Ver', 'Android Ver']\n",
      "['Insightly CRM', 'BUSINESS', '3.8', '1383', '51M', '100,000+', 'Free', '0', 'Everyone', 'Business', 'July 12, 2018', '3.24.1', '5.0 and up']\n",
      "['Insightly CRM', 'BUSINESS', '3.8', '1383', '51M', '100,000+', 'Free', '0', 'Everyone', 'Business', 'July 12, 2018', '3.24.1', '5.0 and up']\n",
      "['Instagram', 'SOCIAL', '4.5', '66577313', 'Varies with device', '1,000,000,000+', 'Free', '0', 'Teen', 'Social', 'July 31, 2018', 'Varies with device', 'Varies with device']\n",
      "['Instagram', 'SOCIAL', '4.5', '66577446', 'Varies with device', '1,000,000,000+', 'Free', '0', 'Teen', 'Social', 'July 31, 2018', 'Varies with device', 'Varies with device']\n",
      "['Instagram', 'SOCIAL', '4.5', '66577313', 'Varies with device', '1,000,000,000+', 'Free', '0', 'Teen', 'Social', 'July 31, 2018', 'Varies with device', 'Varies with device']\n",
      "['Instagram', 'SOCIAL', '4.5', '66509917', 'Varies with device', '1,000,000,000+', 'Free', '0', 'Teen', 'Social', 'July 31, 2018', 'Varies with device', 'Varies with device']\n",
      "['Slack', 'BUSINESS', '4.4', '51507', 'Varies with device', '5,000,000+', 'Free', '0', 'Everyone', 'Business', 'August 2, 2018', 'Varies with device', 'Varies with device']\n",
      "['Slack', 'BUSINESS', '4.4', '51507', 'Varies with device', '5,000,000+', 'Free', '0', 'Everyone', 'Business', 'August 2, 2018', 'Varies with device', 'Varies with device']\n",
      "['Slack', 'BUSINESS', '4.4', '51510', 'Varies with device', '5,000,000+', 'Free', '0', 'Everyone', 'Business', 'August 2, 2018', 'Varies with device', 'Varies with device']\n",
      "['ZOOM Cloud Meetings', 'BUSINESS', '4.4', '31614', '37M', '10,000,000+', 'Free', '0', 'Everyone', 'Business', 'July 20, 2018', '4.1.28165.0716', '4.0 and up']\n",
      "['ZOOM Cloud Meetings', 'BUSINESS', '4.4', '31614', '37M', '10,000,000+', 'Free', '0', 'Everyone', 'Business', 'July 20, 2018', '4.1.28165.0716', '4.0 and up']\n"
     ]
    }
   ],
   "source": [
    "duplicated_entry_examples = list()\n",
    "for app in android_dataset:\n",
    "    app_name = app[0]\n",
    "    if app_name in ['ZOOM Cloud Meetings', 'Instagram', 'Slack', 'Insightly CRM']:\n",
    "        duplicated_entry_examples.append(app)\n",
    "        \n",
    "# sort the example list by App name\n",
    "duplicated_entry_examples = sorted(duplicated_entry_examples,key=lambda x: x[0])\n",
    "print(android_header)\n",
    "for row in duplicated_entry_examples:\n",
    "    print(row)"
   ]
  },
  {
   "cell_type": "code",
   "execution_count": null,
   "metadata": {},
   "outputs": [],
   "source": []
  }
 ],
 "metadata": {
  "kernelspec": {
   "display_name": "Python 3",
   "language": "python",
   "name": "python3"
  },
  "language_info": {
   "codemirror_mode": {
    "name": "ipython",
    "version": 3
   },
   "file_extension": ".py",
   "mimetype": "text/x-python",
   "name": "python",
   "nbconvert_exporter": "python",
   "pygments_lexer": "ipython3",
   "version": "3.7.4"
  }
 },
 "nbformat": 4,
 "nbformat_minor": 2
}
