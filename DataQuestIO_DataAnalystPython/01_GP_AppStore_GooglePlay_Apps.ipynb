{
 "cells": [
  {
   "cell_type": "markdown",
   "metadata": {},
   "source": [
    "## Profitable App Profiles for the App Store and Google Play Markets\n",
    "\n",
    "First Guided Project in dataquest.io - Data Analys in Python.<br>\n",
    "Exploring two csv datasets:<br>\n",
    "* **AppleStore.csv** - containing data about approximately seven thousand iOS apps from the App Store.<br> You can download the data set directly from this [link](https://dq-content.s3.amazonaws.com/350/AppleStore.csv).\n",
    "* **googleplaystore.csv** - containing data about approximately ten thousand Android apps from Google Play.<br> You can download the data set directly from this [link](https://dq-content.s3.amazonaws.com/350/googleplaystore.csv).\n"
   ]
  },
  {
   "cell_type": "markdown",
   "metadata": {},
   "source": [
    "## Opening the csv files"
   ]
  },
  {
   "cell_type": "code",
   "execution_count": 6,
   "metadata": {},
   "outputs": [
    {
     "name": "stdout",
     "output_type": "stream",
     "text": [
      "Apple Store header:\n",
      "['id', 'track_name', 'size_bytes', 'currency', 'price', 'rating_count_tot', 'rating_count_ver', 'user_rating', 'user_rating_ver', 'ver', 'cont_rating', 'prime_genre', 'sup_devices.num', 'ipadSc_urls.num', 'lang.num', 'vpp_lic']\n",
      "\n",
      "Google Play header:\n",
      "['App', 'Category', 'Rating', 'Reviews', 'Size', 'Installs', 'Type', 'Price', 'Content Rating', 'Genres', 'Last Updated', 'Current Ver', 'Android Ver']\n",
      "\n",
      "# of rows in Apple Store data set: 7197\n",
      "# of rows in Google Play data set: 10841\n"
     ]
    }
   ],
   "source": [
    "import csv\n",
    "\n",
    "def opening_csv_files(file_path):\n",
    "    with open(file_path, encoding='utf-8', mode='r') as csv_file:\n",
    "        data_set = list(csv.reader(csv_file))\n",
    "        \n",
    "        data_header = data_set[0]\n",
    "        data_body = data_set[1:]\n",
    "        \n",
    "    return data_header, data_body\n",
    "\n",
    "# AppleStore data set\n",
    "ios_header, ios_dataset = opening_csv_files('src\\AppleStore.csv')\n",
    "\n",
    "# Google Play data set\n",
    "android_header, android_dataset = opening_csv_files('src\\googleplaystore.csv')\n",
    "\n",
    "# Check headers\n",
    "print('Apple Store header:\\n{}\\n'.format(ios_header))\n",
    "print('Google Play header:\\n{}\\n'.format(android_header))\n",
    "\n",
    "# Length of data sets\n",
    "print('# of rows in Apple Store data set: {}'.format(len(ios_dataset)))\n",
    "print('# of rows in Google Play data set: {}'.format(len(android_dataset)))"
   ]
  },
  {
   "cell_type": "markdown",
   "metadata": {},
   "source": [
    "## Exploring data sets\n",
    "* Print some rows\n",
    "* Print # of rows\n",
    "* Print # of columns"
   ]
  },
  {
   "cell_type": "code",
   "execution_count": 16,
   "metadata": {},
   "outputs": [
    {
     "name": "stdout",
     "output_type": "stream",
     "text": [
      "Quick view of Apple Store data set: \n",
      "--------------------------------------------------\n",
      "['id', 'track_name', 'size_bytes', 'currency', 'price', 'rating_count_tot', 'rating_count_ver', 'user_rating', 'user_rating_ver', 'ver', 'cont_rating', 'prime_genre', 'sup_devices.num', 'ipadSc_urls.num', 'lang.num', 'vpp_lic']\n",
      "\n",
      "\n",
      "['284882215', 'Facebook', '389879808', 'USD', '0.0', '2974676', '212', '3.5', '3.5', '95.0', '4+', 'Social Networking', '37', '1', '29', '1']\n",
      "====================================================================================================\n",
      "['389801252', 'Instagram', '113954816', 'USD', '0.0', '2161558', '1289', '4.5', '4.0', '10.23', '12+', 'Photo & Video', '37', '0', '29', '1']\n",
      "====================================================================================================\n",
      "['529479190', 'Clash of Clans', '116476928', 'USD', '0.0', '2130805', '579', '4.5', '4.5', '9.24.12', '9+', 'Games', '38', '5', '18', '1']\n",
      "====================================================================================================\n",
      "# of rows: 7197\n",
      "# of columns: 16\n",
      "\n",
      "\n",
      "Quick view of Google Play data set: \n",
      "--------------------------------------------------\n",
      "['App', 'Category', 'Rating', 'Reviews', 'Size', 'Installs', 'Type', 'Price', 'Content Rating', 'Genres', 'Last Updated', 'Current Ver', 'Android Ver']\n",
      "\n",
      "\n",
      "['Photo Editor & Candy Camera & Grid & ScrapBook', 'ART_AND_DESIGN', '4.1', '159', '19M', '10,000+', 'Free', '0', 'Everyone', 'Art & Design', 'January 7, 2018', '1.0.0', '4.0.3 and up']\n",
      "====================================================================================================\n",
      "['Coloring book moana', 'ART_AND_DESIGN', '3.9', '967', '14M', '500,000+', 'Free', '0', 'Everyone', 'Art & Design;Pretend Play', 'January 15, 2018', '2.0.0', '4.0.3 and up']\n",
      "====================================================================================================\n",
      "['U Launcher Lite – FREE Live Cool Themes, Hide Apps', 'ART_AND_DESIGN', '4.7', '87510', '8.7M', '5,000,000+', 'Free', '0', 'Everyone', 'Art & Design', 'August 1, 2018', '1.2.4', '4.0.3 and up']\n",
      "====================================================================================================\n",
      "# of rows: 10841\n",
      "# of columns: 13\n"
     ]
    }
   ],
   "source": [
    "def explore_data(dataset, slice_start, slice_end, rows_columns_count=False):\n",
    "    \"\"\"\n",
    "    dataset: list\n",
    "    slice_start: starting row of a data slice\n",
    "    slice_end: ending row of a data slice\n",
    "    rows_columns_count: if True prints the number of rows and columns\n",
    "    \"\"\"\n",
    "    if slice_start > slice_end:\n",
    "        slice_end = slice_start + 1\n",
    "    \n",
    "    slice_of_data = dataset[slice_start:slice_end]\n",
    "    \n",
    "    for row in slice_of_data:\n",
    "        print(row)\n",
    "        print('='*100)\n",
    "        \n",
    "    if rows_columns_count:\n",
    "        print('# of rows: {}'.format(len(dataset)))\n",
    "        print('# of columns: {}'.format(len(dataset[0])))\n",
    "        \n",
    "print('Quick view of Apple Store data set: \\n' + '-'*50 )\n",
    "print(ios_header)\n",
    "print('\\n')\n",
    "explore_data(ios_dataset, 0, 3, True)\n",
    "\n",
    "print('\\n')\n",
    "print('Quick view of Google Play data set: \\n' + '-'*50 )\n",
    "print(android_header)\n",
    "print('\\n')\n",
    "explore_data(android_dataset, 0, 3, True)"
   ]
  },
  {
   "cell_type": "code",
   "execution_count": null,
   "metadata": {},
   "outputs": [],
   "source": []
  }
 ],
 "metadata": {
  "kernelspec": {
   "display_name": "Python 3",
   "language": "python",
   "name": "python3"
  },
  "language_info": {
   "codemirror_mode": {
    "name": "ipython",
    "version": 3
   },
   "file_extension": ".py",
   "mimetype": "text/x-python",
   "name": "python",
   "nbconvert_exporter": "python",
   "pygments_lexer": "ipython3",
   "version": "3.7.4"
  }
 },
 "nbformat": 4,
 "nbformat_minor": 2
}
